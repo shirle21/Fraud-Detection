{
 "cells": [
  {
   "cell_type": "markdown",
   "id": "937b5b20-4c3c-4128-b9b5-2c15beb50f1e",
   "metadata": {},
   "source": [
    "# Baseline SVM Model"
   ]
  },
  {
   "cell_type": "markdown",
   "id": "9281142e-5f40-4310-b704-64885673227f",
   "metadata": {},
   "source": [
    "**Before Running this notebook, run the notebook 'Pre-Processed.ipynb' (Located in cmse492_project\\Data\\Pre-Processing) which will create the processed dataframe file 'processed.csv'. Place a copy of that file into this directory (cmse492_project\\Models\\SVMModels)** "
   ]
  },
  {
   "cell_type": "code",
   "execution_count": 1,
   "id": "dd37ba91-efc7-485b-bedf-5d97efd37eaf",
   "metadata": {},
   "outputs": [],
   "source": [
    "import pandas as pd\n",
    "import numpy as np\n",
    "from sklearn.model_selection import train_test_split\n",
    "from sklearn.preprocessing import StandardScaler\n",
    "from sklearn.svm import SVC\n",
    "from sklearn.pipeline import Pipeline\n",
    "from sklearn.pipeline import make_pipeline\n",
    "from sklearn.model_selection import cross_val_score\n",
    "from tqdm import tqdm"
   ]
  },
  {
   "cell_type": "code",
   "execution_count": 2,
   "id": "1c592663-9a03-4d55-8793-5182a66d750d",
   "metadata": {},
   "outputs": [],
   "source": [
    "df = pd.read_csv('processed.csv')"
   ]
  },
  {
   "cell_type": "markdown",
   "id": "83f8929f-de8d-4e3b-9d32-1bb2aa7d377f",
   "metadata": {},
   "source": [
    "**I. Train-Test Split**"
   ]
  },
  {
   "cell_type": "code",
   "execution_count": 3,
   "id": "52fba827-9016-47d5-ae46-c31c4b828325",
   "metadata": {},
   "outputs": [],
   "source": [
    "X = df.drop(['Class', 'Time', 'TransactionTime'], axis=1)  \n",
    "y = df['Class']\n",
    "\n",
    "X_train, X_test, y_train, y_test = train_test_split(X, y, test_size=0.1, random_state=42, stratify=y)"
   ]
  },
  {
   "cell_type": "code",
   "execution_count": 6,
   "id": "7fea88ab-1eb2-4992-884d-13b9648127d5",
   "metadata": {},
   "outputs": [],
   "source": [
    "pipeline_linear = make_pipeline(\n",
    "    StandardScaler(),\n",
    "    SVC(kernel='linear', class_weight='balanced', random_state=42)\n",
    ")"
   ]
  },
  {
   "cell_type": "code",
   "execution_count": 7,
   "id": "1ffc1740-68ee-4dbe-b06a-b234dfdefa20",
   "metadata": {},
   "outputs": [
    {
     "name": "stdout",
     "output_type": "stream",
     "text": [
      "Pipeline(steps=[('standardscaler', StandardScaler()),\n",
      "                ('svc',\n",
      "                 SVC(class_weight='balanced', kernel='linear',\n",
      "                     random_state=42))])\n"
     ]
    }
   ],
   "source": [
    "print(pipeline_linear)"
   ]
  },
  {
   "cell_type": "markdown",
   "id": "36fd574b-68e4-481c-9109-bddc412c1e0b",
   "metadata": {},
   "source": [
    "**II. Linear and Non-Linear Pipeline**"
   ]
  },
  {
   "cell_type": "code",
   "execution_count": null,
   "id": "8b64ec61-4258-4828-a9c5-7f9fb3536774",
   "metadata": {},
   "outputs": [],
   "source": [
    "pipeline_linear = make_pipeline(\n",
    "    StandardScaler(),\n",
    "    SVC(kernel='linear', class_weight='balanced', random_state=42)\n",
    ")\n",
    "\n",
    "\n",
    "pipeline_rbf = make_pipeline(\n",
    "    StandardScaler(),\n",
    "    SVC(kernel='rbf', class_weight='balanced', random_state=42)\n",
    ")\n"
   ]
  },
  {
   "cell_type": "code",
   "execution_count": null,
   "id": "f9406566-fb04-43b4-a6ee-f220302276f3",
   "metadata": {},
   "outputs": [],
   "source": [
    "cv_scores_linear = []\n",
    "for fold in tqdm(range(5), desc=\"Linear Kernel\", position=0):\n",
    "    score = cross_val_score(pipeline_linear, X_train, y_train, cv=5)[fold]\n",
    "    cv_scores_linear.append(score)"
   ]
  },
  {
   "cell_type": "code",
   "execution_count": null,
   "id": "fb4d6ecd-0524-4365-8e60-bde45bd96a49",
   "metadata": {},
   "outputs": [],
   "source": [
    "cv_scores_rbf = []\n",
    "for fold in tqdm(range(5), desc=\"RBF Kernel\", position=1):\n",
    "    score = cross_val_score(pipeline_rbf, X_train, y_train, cv=5)[fold]\n",
    "    cv_scores_rbf.append(score)\n",
    "\n",
    "# Print the results of cross-validation for both kernels\n",
    "print(f\"Linear Kernel - Mean Accuracy: {np.mean(cv_scores_linear):.4f}, Std: {np.std(cv_scores_linear):.4f}\")\n",
    "print(f\"RBF Kernel - Mean Accuracy: {np.mean(cv_scores_rbf):.4f}, Std: {np.std(cv_scores_rbf):.4f}\")\n"
   ]
  },
  {
   "cell_type": "code",
   "execution_count": null,
   "id": "910b8d53-91de-44e6-bdb3-dba6760ed445",
   "metadata": {},
   "outputs": [],
   "source": [
    "best_pipeline = pipeline_linear if cv_scores_linear.mean() > cv_scores_rbf.mean() else pipeline_rbf"
   ]
  },
  {
   "cell_type": "code",
   "execution_count": null,
   "id": "c944451b-f084-4f9c-b6fe-3dc3d2ca9efb",
   "metadata": {},
   "outputs": [],
   "source": [
    "best_pipeline.fit(X_train, y_train)\n",
    "y_pred_best = best_pipeline.predict(X_test)"
   ]
  }
 ],
 "metadata": {
  "kernelspec": {
   "display_name": "Python 3 (ipykernel)",
   "language": "python",
   "name": "python3"
  },
  "language_info": {
   "codemirror_mode": {
    "name": "ipython",
    "version": 3
   },
   "file_extension": ".py",
   "mimetype": "text/x-python",
   "name": "python",
   "nbconvert_exporter": "python",
   "pygments_lexer": "ipython3",
   "version": "3.12.5"
  }
 },
 "nbformat": 4,
 "nbformat_minor": 5
}
